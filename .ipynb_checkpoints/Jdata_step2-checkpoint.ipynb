{
 "cells": [
  {
   "cell_type": "markdown",
   "metadata": {},
   "source": [
    "# 数据探索"
   ]
  },
  {
   "cell_type": "code",
   "execution_count": 1,
   "metadata": {
    "collapsed": false
   },
   "outputs": [],
   "source": [
    "import numpy as np\n",
    "import pandas as pd\n",
    "import matplotlib.pyplot as plt\n",
    "from math import *\n",
    "%matplotlib inline"
   ]
  },
  {
   "cell_type": "markdown",
   "metadata": {},
   "source": [
    "### 1.读入商品数据"
   ]
  },
  {
   "cell_type": "code",
   "execution_count": 2,
   "metadata": {
    "collapsed": true
   },
   "outputs": [],
   "source": [
    "File = './data/JData_Product.csv'"
   ]
  },
  {
   "cell_type": "code",
   "execution_count": 3,
   "metadata": {
    "collapsed": false
   },
   "outputs": [
    {
     "name": "stdout",
     "output_type": "stream",
     "text": [
      "<class 'pandas.core.frame.DataFrame'>\n",
      "   sku_id  a1  a2  a3  cate  brand\n",
      "0      10   3   1   1     8    489\n",
      "1  100002   3   2   2     8    489\n",
      "2  100003   1  -1  -1     8     30\n",
      "3  100006   1   2   1     8    545\n",
      "4   10001  -1   1   2     8    244\n"
     ]
    }
   ],
   "source": [
    "df = pd.read_csv(File,encoding='gbk')\n",
    "print(type(df))\n",
    "print(df.head())"
   ]
  },
  {
   "cell_type": "markdown",
   "metadata": {},
   "source": [
    "### 2.商品数据探索"
   ]
  },
  {
   "cell_type": "code",
   "execution_count": 4,
   "metadata": {
    "collapsed": false,
    "scrolled": true
   },
   "outputs": [
    {
     "data": {
      "text/html": [
       "<div>\n",
       "<table border=\"1\" class=\"dataframe\">\n",
       "  <thead>\n",
       "    <tr style=\"text-align: right;\">\n",
       "      <th></th>\n",
       "      <th>sku_id</th>\n",
       "      <th>a1</th>\n",
       "      <th>a2</th>\n",
       "      <th>a3</th>\n",
       "      <th>cate</th>\n",
       "      <th>brand</th>\n",
       "    </tr>\n",
       "  </thead>\n",
       "  <tbody>\n",
       "    <tr>\n",
       "      <th>count</th>\n",
       "      <td>24187.000000</td>\n",
       "      <td>24187.000000</td>\n",
       "      <td>24187.000000</td>\n",
       "      <td>24187.000000</td>\n",
       "      <td>24187.0</td>\n",
       "      <td>24187.000000</td>\n",
       "    </tr>\n",
       "    <tr>\n",
       "      <th>mean</th>\n",
       "      <td>85398.737421</td>\n",
       "      <td>2.176996</td>\n",
       "      <td>0.938975</td>\n",
       "      <td>1.179766</td>\n",
       "      <td>8.0</td>\n",
       "      <td>435.864307</td>\n",
       "    </tr>\n",
       "    <tr>\n",
       "      <th>std</th>\n",
       "      <td>49238.799482</td>\n",
       "      <td>1.176116</td>\n",
       "      <td>0.969517</td>\n",
       "      <td>1.045883</td>\n",
       "      <td>0.0</td>\n",
       "      <td>225.749190</td>\n",
       "    </tr>\n",
       "    <tr>\n",
       "      <th>min</th>\n",
       "      <td>6.000000</td>\n",
       "      <td>-1.000000</td>\n",
       "      <td>-1.000000</td>\n",
       "      <td>-1.000000</td>\n",
       "      <td>8.0</td>\n",
       "      <td>3.000000</td>\n",
       "    </tr>\n",
       "    <tr>\n",
       "      <th>25%</th>\n",
       "      <td>42476.000000</td>\n",
       "      <td>1.000000</td>\n",
       "      <td>1.000000</td>\n",
       "      <td>1.000000</td>\n",
       "      <td>8.0</td>\n",
       "      <td>214.000000</td>\n",
       "    </tr>\n",
       "    <tr>\n",
       "      <th>50%</th>\n",
       "      <td>85616.000000</td>\n",
       "      <td>3.000000</td>\n",
       "      <td>1.000000</td>\n",
       "      <td>1.000000</td>\n",
       "      <td>8.0</td>\n",
       "      <td>489.000000</td>\n",
       "    </tr>\n",
       "    <tr>\n",
       "      <th>75%</th>\n",
       "      <td>127774.000000</td>\n",
       "      <td>3.000000</td>\n",
       "      <td>2.000000</td>\n",
       "      <td>2.000000</td>\n",
       "      <td>8.0</td>\n",
       "      <td>571.000000</td>\n",
       "    </tr>\n",
       "    <tr>\n",
       "      <th>max</th>\n",
       "      <td>171224.000000</td>\n",
       "      <td>3.000000</td>\n",
       "      <td>2.000000</td>\n",
       "      <td>2.000000</td>\n",
       "      <td>8.0</td>\n",
       "      <td>922.000000</td>\n",
       "    </tr>\n",
       "  </tbody>\n",
       "</table>\n",
       "</div>"
      ],
      "text/plain": [
       "              sku_id            a1            a2            a3     cate  \\\n",
       "count   24187.000000  24187.000000  24187.000000  24187.000000  24187.0   \n",
       "mean    85398.737421      2.176996      0.938975      1.179766      8.0   \n",
       "std     49238.799482      1.176116      0.969517      1.045883      0.0   \n",
       "min         6.000000     -1.000000     -1.000000     -1.000000      8.0   \n",
       "25%     42476.000000      1.000000      1.000000      1.000000      8.0   \n",
       "50%     85616.000000      3.000000      1.000000      1.000000      8.0   \n",
       "75%    127774.000000      3.000000      2.000000      2.000000      8.0   \n",
       "max    171224.000000      3.000000      2.000000      2.000000      8.0   \n",
       "\n",
       "              brand  \n",
       "count  24187.000000  \n",
       "mean     435.864307  \n",
       "std      225.749190  \n",
       "min        3.000000  \n",
       "25%      214.000000  \n",
       "50%      489.000000  \n",
       "75%      571.000000  \n",
       "max      922.000000  "
      ]
     },
     "execution_count": 4,
     "metadata": {},
     "output_type": "execute_result"
    }
   ],
   "source": [
    "df.describe()"
   ]
  },
  {
   "cell_type": "code",
   "execution_count": 5,
   "metadata": {
    "collapsed": false
   },
   "outputs": [
    {
     "data": {
      "text/plain": [
       "24187"
      ]
     },
     "execution_count": 5,
     "metadata": {},
     "output_type": "execute_result"
    }
   ],
   "source": [
    "# 查看数据条数\n",
    "len(df)"
   ]
  },
  {
   "cell_type": "code",
   "execution_count": 6,
   "metadata": {
    "collapsed": false
   },
   "outputs": [
    {
     "data": {
      "text/plain": [
       "24187"
      ]
     },
     "execution_count": 6,
     "metadata": {},
     "output_type": "execute_result"
    }
   ],
   "source": [
    "# 查看属性非空条数\n",
    "df['sku_id'].count()"
   ]
  },
  {
   "cell_type": "code",
   "execution_count": 7,
   "metadata": {
    "collapsed": false
   },
   "outputs": [
    {
     "data": {
      "text/plain": [
       "24187"
      ]
     },
     "execution_count": 7,
     "metadata": {},
     "output_type": "execute_result"
    }
   ],
   "source": [
    "# 查看属性非空条数\n",
    "df['a1'].count()"
   ]
  },
  {
   "cell_type": "code",
   "execution_count": 8,
   "metadata": {
    "collapsed": false
   },
   "outputs": [
    {
     "data": {
      "text/plain": [
       "24187"
      ]
     },
     "execution_count": 8,
     "metadata": {},
     "output_type": "execute_result"
    }
   ],
   "source": [
    "# 查看属性非空条数\n",
    "df['a2'].count()"
   ]
  },
  {
   "cell_type": "code",
   "execution_count": 9,
   "metadata": {
    "collapsed": false
   },
   "outputs": [
    {
     "data": {
      "text/plain": [
       "24187"
      ]
     },
     "execution_count": 9,
     "metadata": {},
     "output_type": "execute_result"
    }
   ],
   "source": [
    "# 查看属性非空条数\n",
    "df['a3'].count()"
   ]
  },
  {
   "cell_type": "code",
   "execution_count": 10,
   "metadata": {
    "collapsed": false
   },
   "outputs": [
    {
     "data": {
      "text/plain": [
       "24187"
      ]
     },
     "execution_count": 10,
     "metadata": {},
     "output_type": "execute_result"
    }
   ],
   "source": [
    "# 查看属性非空条数\n",
    "df['cate'].count()"
   ]
  },
  {
   "cell_type": "code",
   "execution_count": 11,
   "metadata": {
    "collapsed": false
   },
   "outputs": [
    {
     "data": {
      "text/plain": [
       "24187"
      ]
     },
     "execution_count": 11,
     "metadata": {},
     "output_type": "execute_result"
    }
   ],
   "source": [
    "# 查看属性非空条数\n",
    "df['brand'].count()"
   ]
  },
  {
   "cell_type": "markdown",
   "metadata": {},
   "source": [
    "### 3.数据清洗"
   ]
  },
  {
   "cell_type": "markdown",
   "metadata": {},
   "source": [
    "### 4.查看属性的取值分布情况 "
   ]
  },
  {
   "cell_type": "code",
   "execution_count": 12,
   "metadata": {
    "collapsed": false
   },
   "outputs": [
    {
     "data": {
      "text/plain": [
       "array([ 3,  1, -1,  2])"
      ]
     },
     "execution_count": 12,
     "metadata": {},
     "output_type": "execute_result"
    }
   ],
   "source": [
    "#查看属性的值\n",
    "df['a1'].unique()"
   ]
  },
  {
   "cell_type": "code",
   "execution_count": 13,
   "metadata": {
    "collapsed": false
   },
   "outputs": [
    {
     "data": {
      "text/plain": [
       " 3    14144\n",
       " 1     4760\n",
       " 2     3582\n",
       "-1     1701\n",
       "Name: a1, dtype: int64"
      ]
     },
     "execution_count": 13,
     "metadata": {},
     "output_type": "execute_result"
    }
   ],
   "source": [
    "#查看每一个属性取值的数据条数\n",
    "df['a1'].value_counts()"
   ]
  },
  {
   "cell_type": "code",
   "execution_count": 14,
   "metadata": {
    "collapsed": false
   },
   "outputs": [
    {
     "data": {
      "text/plain": [
       "array([ 1,  2, -1])"
      ]
     },
     "execution_count": 14,
     "metadata": {},
     "output_type": "execute_result"
    }
   ],
   "source": [
    "#查看属性的值\n",
    "df['a2'].unique()"
   ]
  },
  {
   "cell_type": "code",
   "execution_count": 15,
   "metadata": {
    "collapsed": false
   },
   "outputs": [
    {
     "data": {
      "text/plain": [
       " 1    13513\n",
       " 2     6624\n",
       "-1     4050\n",
       "Name: a2, dtype: int64"
      ]
     },
     "execution_count": 15,
     "metadata": {},
     "output_type": "execute_result"
    }
   ],
   "source": [
    "#查看每一个属性取值的数据条数\n",
    "df['a2'].value_counts()"
   ]
  },
  {
   "cell_type": "code",
   "execution_count": 16,
   "metadata": {
    "collapsed": false
   },
   "outputs": [
    {
     "data": {
      "text/plain": [
       "array([ 1,  2, -1])"
      ]
     },
     "execution_count": 16,
     "metadata": {},
     "output_type": "execute_result"
    }
   ],
   "source": [
    "df['a3'].unique()"
   ]
  },
  {
   "cell_type": "code",
   "execution_count": 17,
   "metadata": {
    "collapsed": false
   },
   "outputs": [
    {
     "data": {
      "text/plain": [
       " 2    11978\n",
       " 1     8394\n",
       "-1     3815\n",
       "Name: a3, dtype: int64"
      ]
     },
     "execution_count": 17,
     "metadata": {},
     "output_type": "execute_result"
    }
   ],
   "source": [
    "#查看每一个属性取值的数据条数\n",
    "df['a3'].value_counts()"
   ]
  },
  {
   "cell_type": "code",
   "execution_count": 18,
   "metadata": {
    "collapsed": false
   },
   "outputs": [
    {
     "data": {
      "text/plain": [
       "array([8])"
      ]
     },
     "execution_count": 18,
     "metadata": {},
     "output_type": "execute_result"
    }
   ],
   "source": [
    "df['cate'].unique()"
   ]
  },
  {
   "cell_type": "code",
   "execution_count": 19,
   "metadata": {
    "collapsed": false
   },
   "outputs": [
    {
     "data": {
      "text/plain": [
       "array([489,  30, 545, 244, 214, 124, 306, 403, 174, 812, 635, 885, 658,\n",
       "       321, 790, 875, 766, 800, 693, 623, 571, 556, 801, 101, 596, 605,\n",
       "       562, 427, 673, 200,  91, 355, 375, 655, 916,  70, 804, 561, 622,\n",
       "       263, 900, 159, 677, 484,  88,  14,  76, 665, 674, 116,  25, 324,\n",
       "       318,  90, 328, 541,  83,  24, 837, 291, 717, 127, 249,  51, 857,\n",
       "       383, 370,   3, 404, 599, 209, 453, 197, 594, 922, 855, 574, 772,\n",
       "       211, 331,  48, 515, 225, 180, 752, 283, 438, 907, 336, 905,  13,\n",
       "       299, 759,  49, 479, 354, 285, 739, 227, 554, 871, 499])"
      ]
     },
     "execution_count": 19,
     "metadata": {},
     "output_type": "execute_result"
    }
   ],
   "source": [
    "df['brand'].unique()"
   ]
  },
  {
   "cell_type": "code",
   "execution_count": 20,
   "metadata": {
    "collapsed": false,
    "scrolled": true
   },
   "outputs": [
    {
     "data": {
      "text/plain": [
       "489    6637\n",
       "214    6444\n",
       "623    1101\n",
       "812    1061\n",
       "800    1015\n",
       "545     945\n",
       "124     932\n",
       "306     795\n",
       "30      659\n",
       "885     601\n",
       "403     517\n",
       "693     372\n",
       "658     368\n",
       "766     254\n",
       "571     235\n",
       "635     199\n",
       "562     134\n",
       "244     114\n",
       "655     102\n",
       "622      97\n",
       "801      94\n",
       "321      82\n",
       "790      81\n",
       "677      77\n",
       "200      72\n",
       "427      67\n",
       "674      53\n",
       "174      50\n",
       "857      49\n",
       "596      48\n",
       "       ... \n",
       "574       4\n",
       "665       4\n",
       "116       4\n",
       "291       3\n",
       "197       3\n",
       "383       3\n",
       "180       2\n",
       "739       2\n",
       "227       2\n",
       "907       2\n",
       "759       2\n",
       "453       2\n",
       "324       2\n",
       "336       1\n",
       "285       1\n",
       "479       1\n",
       "49        1\n",
       "752       1\n",
       "13        1\n",
       "772       1\n",
       "331       1\n",
       "299       1\n",
       "354       1\n",
       "922       1\n",
       "554       1\n",
       "905       1\n",
       "871       1\n",
       "855       1\n",
       "499       1\n",
       "438       1\n",
       "Name: brand, dtype: int64"
      ]
     },
     "execution_count": 20,
     "metadata": {},
     "output_type": "execute_result"
    }
   ],
   "source": [
    "df['brand'].value_counts()"
   ]
  },
  {
   "cell_type": "markdown",
   "metadata": {},
   "source": [
    "### 5.特征处理 "
   ]
  },
  {
   "cell_type": "code",
   "execution_count": null,
   "metadata": {
    "collapsed": true
   },
   "outputs": [],
   "source": [
    "# 对sex做离散化,把三个取值,展开成三列,对应的位置为1,其余为0\n",
    "# 男(0) -> sex_male\n",
    "# 女(1) -> sex_female\n",
    "# 保密(2) -> sex_unknow\n",
    "# 初始化\n",
    "user_df['sex_male'] = 0.0\n",
    "user_df['sex_female'] = 0.0\n",
    "user_df['sex_unknow'] = 0.0"
   ]
  },
  {
   "cell_type": "code",
   "execution_count": null,
   "metadata": {
    "collapsed": false
   },
   "outputs": [],
   "source": [
    "user_df.head()"
   ]
  },
  {
   "cell_type": "code",
   "execution_count": null,
   "metadata": {
    "collapsed": false
   },
   "outputs": [],
   "source": [
    "# 离散化\n",
    "user_df.loc[user_df['sex'] == 0.0,'sex_male']=1\n",
    "user_df.loc[user_df['sex'] == 1.0,'sex_female']=1\n",
    "user_df.loc[user_df['sex'] == 2.0,'sex_unknow']=1"
   ]
  },
  {
   "cell_type": "code",
   "execution_count": null,
   "metadata": {
    "collapsed": false
   },
   "outputs": [],
   "source": [
    "user_df.head()"
   ]
  },
  {
   "cell_type": "code",
   "execution_count": null,
   "metadata": {
    "collapsed": true
   },
   "outputs": [],
   "source": [
    "# 对age做变换\n",
    "# 初始化\n",
    "user_df['age_15'] = 0.0\n",
    "user_df['age_25'] = 0.0\n",
    "user_df['age_35'] = 0.0\n",
    "user_df['age_45'] = 0.0\n",
    "user_df['age_55'] = 0.0\n",
    "user_df['age_56'] = 0.0\n",
    "user_df['age_unknow'] = 0.0\n",
    "\n",
    "# 数据变换\n",
    "user_df.loc[user_df['age'] == '15岁以下','age_15']=1\n",
    "user_df.loc[user_df['age'] == '16-25岁','age_25']=1\n",
    "user_df.loc[user_df['age'] == '26-35岁','age_35']=1\n",
    "user_df.loc[user_df['age'] == '36-45岁','age_45']=1\n",
    "user_df.loc[user_df['age'] == '46-55岁','age_55']=1\n",
    "user_df.loc[user_df['age'] == '56岁以上','age_56']=1\n",
    "user_df.loc[user_df['age'] == '-1','age_unknow']=1"
   ]
  },
  {
   "cell_type": "code",
   "execution_count": null,
   "metadata": {
    "collapsed": false
   },
   "outputs": [],
   "source": [
    "user_df.head()"
   ]
  },
  {
   "cell_type": "code",
   "execution_count": null,
   "metadata": {
    "collapsed": false
   },
   "outputs": [],
   "source": [
    "# 计算用户注册时间,同时做离散化处理\n",
    "# 使用datetime\n",
    "# from datetime import datetime\n",
    "# datetime.strptime(user_df['user_reg_tm'][0],'%Y-%m-%d')"
   ]
  },
  {
   "cell_type": "code",
   "execution_count": null,
   "metadata": {
    "collapsed": false
   },
   "outputs": [],
   "source": [
    "# 使用parse\n",
    "# from dateutil.parser import parse\n",
    "# parse(user_df['user_reg_tm'][0])"
   ]
  },
  {
   "cell_type": "code",
   "execution_count": null,
   "metadata": {
    "collapsed": false
   },
   "outputs": [],
   "source": [
    "# 使用.to_datetime\n",
    "user_df['user_reg_tm']=pd.to_datetime(user_df['user_reg_tm'])"
   ]
  },
  {
   "cell_type": "code",
   "execution_count": null,
   "metadata": {
    "collapsed": false
   },
   "outputs": [],
   "source": [
    "# 计算注册时间\n",
    "user_df['time_delta']= pd.Series([x.days for x in (user_df['user_reg_tm'] - datetime(2016,4,15))])"
   ]
  },
  {
   "cell_type": "code",
   "execution_count": null,
   "metadata": {
    "collapsed": false
   },
   "outputs": [],
   "source": [
    "# 查看注册日期在2016/4/15之后的用户的数量\n",
    "len(user_df[user_df['time_delta']>0])"
   ]
  },
  {
   "cell_type": "code",
   "execution_count": null,
   "metadata": {
    "collapsed": true
   },
   "outputs": [],
   "source": [
    "# 题目要求预测 2016-04-16到2016-04-20用户是否下单P中的商品\n",
    "# 因此注册日期在2016/4/15的用户数据不符合要求,丢弃这部分数据\n",
    "user_df=user_df[user_df['time_delta']<0]"
   ]
  },
  {
   "cell_type": "code",
   "execution_count": null,
   "metadata": {
    "collapsed": false
   },
   "outputs": [],
   "source": [
    "# 查看注册日期在2016/4/15之后的用户的数量\n",
    "len(user_df[user_df['time_delta']>0])"
   ]
  },
  {
   "cell_type": "code",
   "execution_count": null,
   "metadata": {
    "collapsed": false
   },
   "outputs": [],
   "source": [
    "# 注册日期是连续变量,做归一化处理\n",
    "from sklearn import preprocessing\n",
    "\n",
    "user_df['time_delta_z']=pd.Series(preprocessing.scale(user_df['time_delta'].apply(abs).values))"
   ]
  },
  {
   "cell_type": "code",
   "execution_count": null,
   "metadata": {
    "collapsed": false
   },
   "outputs": [],
   "source": [
    "user_df.head()"
   ]
  },
  {
   "cell_type": "code",
   "execution_count": null,
   "metadata": {
    "collapsed": true
   },
   "outputs": [],
   "source": [
    "# 处理好的数据写入到文件\n",
    "# 丢弃处理之前的属性列\n",
    "colDrop = ['age','sex', 'user_reg_tm']\n",
    "user_df_sel =user_df.drop(colDrop,axis=1).copy()"
   ]
  },
  {
   "cell_type": "code",
   "execution_count": null,
   "metadata": {
    "collapsed": false
   },
   "outputs": [],
   "source": [
    "user_df_sel.head()"
   ]
  },
  {
   "cell_type": "code",
   "execution_count": null,
   "metadata": {
    "collapsed": true
   },
   "outputs": [],
   "source": [
    "user_df_sel.to_csv('../user_df_sel.csv',index=False)"
   ]
  }
 ],
 "metadata": {
  "kernelspec": {
   "display_name": "Python 3",
   "language": "python",
   "name": "python3"
  },
  "language_info": {
   "codemirror_mode": {
    "name": "ipython",
    "version": 3
   },
   "file_extension": ".py",
   "mimetype": "text/x-python",
   "name": "python",
   "nbconvert_exporter": "python",
   "pygments_lexer": "ipython3",
   "version": "3.6.0"
  }
 },
 "nbformat": 4,
 "nbformat_minor": 2
}
