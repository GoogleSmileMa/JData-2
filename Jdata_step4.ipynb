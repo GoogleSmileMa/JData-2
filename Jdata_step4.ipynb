{
 "cells": [
  {
   "cell_type": "markdown",
   "metadata": {},
   "source": [
    "# 数据探索 处理用户行为数据"
   ]
  },
  {
   "cell_type": "code",
   "execution_count": null,
   "metadata": {
    "collapsed": false
   },
   "outputs": [],
   "source": [
    "import numpy as np\n",
    "import pandas as pd\n",
    "import matplotlib.pyplot as plt\n",
    "from math import *\n",
    "%matplotlib inline"
   ]
  },
  {
   "cell_type": "markdown",
   "metadata": {},
   "source": [
    "### 1.读入数据"
   ]
  },
  {
   "cell_type": "code",
   "execution_count": null,
   "metadata": {
    "collapsed": false
   },
   "outputs": [],
   "source": [
    "# File = '../action02/000000_0'\n",
    "\n",
    "# #colInfo =['user_id','sku_id','time','model_id','type','cate','brand']\n",
    "# colInfo =['user_id','sku_id','cate','brand', \\\n",
    "#           'sum_type1','sum_type2','sum_type3','sum_type4','sum_type5','sum_type6']\n",
    "\n",
    "# data = pd.read_table(File,sep='\\001',names=colInfo)\n",
    "# data.head() #显示数据的前5行"
   ]
  },
  {
   "cell_type": "code",
   "execution_count": null,
   "metadata": {
    "collapsed": true
   },
   "outputs": [],
   "source": []
  },
  {
   "cell_type": "markdown",
   "metadata": {},
   "source": [
    "### 2.评论数据探索"
   ]
  },
  {
   "cell_type": "code",
   "execution_count": null,
   "metadata": {
    "collapsed": false,
    "scrolled": true
   },
   "outputs": [],
   "source": [
    "df.describe()"
   ]
  },
  {
   "cell_type": "code",
   "execution_count": null,
   "metadata": {
    "collapsed": false
   },
   "outputs": [],
   "source": [
    "# 查看数据条数\n",
    "len(df)"
   ]
  },
  {
   "cell_type": "markdown",
   "metadata": {},
   "source": [
    "### 3.数据清洗"
   ]
  },
  {
   "cell_type": "markdown",
   "metadata": {},
   "source": [
    "### 4.查看属性的取值分布情况 "
   ]
  },
  {
   "cell_type": "code",
   "execution_count": null,
   "metadata": {
    "collapsed": false
   },
   "outputs": [],
   "source": [
    "len(df['dt'].unique())"
   ]
  },
  {
   "cell_type": "code",
   "execution_count": null,
   "metadata": {
    "collapsed": false
   },
   "outputs": [],
   "source": [
    "# 查看获取评论数据的时间窗口\n",
    "df['dt'].unique()"
   ]
  },
  {
   "cell_type": "code",
   "execution_count": null,
   "metadata": {
    "collapsed": false
   },
   "outputs": [],
   "source": [
    "# 查看每一个截止日期的数据条数\n",
    "[len(df[df['dt'] == x]) for x in df['dt'].unique()]"
   ]
  },
  {
   "cell_type": "code",
   "execution_count": null,
   "metadata": {
    "collapsed": false
   },
   "outputs": [],
   "source": [
    "#查看每一个时间窗口的商品id的个数\n",
    "[len(df[df['dt'] == x]['sku_id'].unique()) for x in df['dt'].unique()]"
   ]
  },
  {
   "cell_type": "code",
   "execution_count": null,
   "metadata": {
    "collapsed": false
   },
   "outputs": [],
   "source": [
    "len(df['sku_id'].unique())"
   ]
  },
  {
   "cell_type": "code",
   "execution_count": null,
   "metadata": {
    "collapsed": true
   },
   "outputs": [],
   "source": [
    "# 根据数据探索的结果推测,总共有46546中商品,每一个商品,在12个时间窗口,分别采集了评论数据\n",
    "# 因此可以把评论数据看成是时间序列的数据,在每一个窗口有3个维度"
   ]
  },
  {
   "cell_type": "code",
   "execution_count": null,
   "metadata": {
    "collapsed": false,
    "scrolled": false
   },
   "outputs": [],
   "source": [
    "#查看每一个属性取值的数据条数\n",
    "df['comment_num'].value_counts()"
   ]
  },
  {
   "cell_type": "code",
   "execution_count": null,
   "metadata": {
    "collapsed": false
   },
   "outputs": [],
   "source": [
    "# 做离散化处理\n",
    "df['comment_num_0'] = 0.0\n",
    "df['comment_num_1'] = 0.0\n",
    "df['comment_num_2'] = 0.0\n",
    "df['comment_num_3'] = 0.0\n",
    "df['comment_num_4'] = 0.0\n",
    "# 离散化赋值\n",
    "df.loc[df['comment_num'] == 1,'comment_num_1']=1\n",
    "df.loc[df['comment_num'] == 2,'comment_num_2']=1\n",
    "df.loc[df['comment_num'] == 3,'comment_num_3']=1\n",
    "df.loc[df['comment_num'] == 4,'comment_num_4']=1\n",
    "df.loc[df['comment_num'] == 0,'comment_num_0']=1\n",
    "# 查看结果\n",
    "df.head()"
   ]
  },
  {
   "cell_type": "markdown",
   "metadata": {},
   "source": [
    "### 5.特征处理 "
   ]
  },
  {
   "cell_type": "code",
   "execution_count": null,
   "metadata": {
    "collapsed": true
   },
   "outputs": [],
   "source": [
    "# 处理好的数据写入到文件\n",
    "# 丢弃处理之前的属性列\n",
    "#colDrop = ['dt','comment_num']\n",
    "colDrop = ['comment_num']\n",
    "df_sel =df.drop(colDrop,axis=1).copy()"
   ]
  },
  {
   "cell_type": "code",
   "execution_count": null,
   "metadata": {
    "collapsed": false
   },
   "outputs": [],
   "source": [
    "df_sel.head()"
   ]
  },
  {
   "cell_type": "code",
   "execution_count": null,
   "metadata": {
    "collapsed": true
   },
   "outputs": [],
   "source": [
    "# 对经过列筛选的数据做数据归并\n",
    "# 对has_bad_comment 做合计,求发生差评的时间窗口次数\n",
    "# 对bad_comment_rate 求均值和方差\n",
    "# 对comment_num_0 ~ comment_num_4 做合计,求出相同取值的时间窗口次数"
   ]
  },
  {
   "cell_type": "code",
   "execution_count": null,
   "metadata": {
    "collapsed": false
   },
   "outputs": [],
   "source": [
    "grouped_sum=df_sel[['comment_num_0','comment_num_1','comment_num_2','comment_num_3','comment_num_4']].groupby(df_sel['sku_id']).sum()"
   ]
  },
  {
   "cell_type": "code",
   "execution_count": null,
   "metadata": {
    "collapsed": false
   },
   "outputs": [],
   "source": [
    "grouped_sum"
   ]
  },
  {
   "cell_type": "code",
   "execution_count": null,
   "metadata": {
    "collapsed": false,
    "scrolled": true
   },
   "outputs": [],
   "source": [
    "# 差评率的均值\n",
    "grouped_mean=df_sel['bad_comment_rate'].groupby(df_sel['sku_id']).mean()\n",
    "grouped_mean"
   ]
  },
  {
   "cell_type": "code",
   "execution_count": null,
   "metadata": {
    "collapsed": false,
    "scrolled": false
   },
   "outputs": [],
   "source": [
    "# 差评率的方差\n",
    "grouped_var=df_sel['bad_comment_rate'].groupby(df_sel['sku_id']).var()\n",
    "grouped_var"
   ]
  },
  {
   "cell_type": "code",
   "execution_count": null,
   "metadata": {
    "collapsed": false
   },
   "outputs": [],
   "source": [
    "# 创建输出用的df\n",
    "df_out = grouped_sum.copy()\n",
    "df_out['bad_comment_rate_mean'] = grouped_mean\n",
    "df_out['bad_comment_rate_var'] = grouped_var\n",
    "df_out['has_bad_comment_times'] = df_sel['has_bad_comment'].groupby(df_sel['sku_id']).sum()"
   ]
  },
  {
   "cell_type": "code",
   "execution_count": null,
   "metadata": {
    "collapsed": false
   },
   "outputs": [],
   "source": [
    "df_out.head()"
   ]
  },
  {
   "cell_type": "code",
   "execution_count": null,
   "metadata": {
    "collapsed": false
   },
   "outputs": [],
   "source": [
    "# 查看某一个特征的取值分布情况\n",
    "df_sel['has_bad_comment'].groupby(df_sel['sku_id']).sum().unique()"
   ]
  },
  {
   "cell_type": "code",
   "execution_count": null,
   "metadata": {
    "collapsed": true
   },
   "outputs": [],
   "source": [
    "df_out.to_csv('../comment_df_sel.csv',index=True)"
   ]
  }
 ],
 "metadata": {
  "kernelspec": {
   "display_name": "Python 3",
   "language": "python",
   "name": "python3"
  },
  "language_info": {
   "codemirror_mode": {
    "name": "ipython",
    "version": 3
   },
   "file_extension": ".py",
   "mimetype": "text/x-python",
   "name": "python",
   "nbconvert_exporter": "python",
   "pygments_lexer": "ipython3",
   "version": "3.6.0"
  }
 },
 "nbformat": 4,
 "nbformat_minor": 2
}
